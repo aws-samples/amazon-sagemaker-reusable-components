{
 "cells": [
  {
   "cell_type": "markdown",
   "source": [
    "# Clean up\n",
    "❗ This notebook removes all resources created by a data transformation and ingestion project. The following code cells will:\n",
    "- permanently delete project or projects you provisioned in your Studio environment\n",
    "- permanently delete feature group or groups\n",
    "- permanently delete project-provisioned S3 buckets\n",
    "- permanently delete objects in S3 buckets under project-related prefixes"
   ],
   "metadata": {}
  },
  {
   "cell_type": "markdown",
   "source": [
    "<div class=\"alert alert-info\"> 💡 <strong> This notebook will delete resources in your AWS account. Please double check the names of resources to be deleted! </strong>\n",
    "</div>"
   ],
   "metadata": {}
  },
  {
   "cell_type": "code",
   "execution_count": null,
   "source": [
    "import sagemaker\n",
    "import boto3\n",
    "import time\n",
    "import json\n",
    "import os"
   ],
   "outputs": [],
   "metadata": {}
  },
  {
   "cell_type": "code",
   "execution_count": null,
   "source": [
    "# load environment variables from %store\n",
    "%store -r "
   ],
   "outputs": [],
   "metadata": {}
  },
  {
   "cell_type": "code",
   "execution_count": null,
   "source": [
    "%store"
   ],
   "outputs": [],
   "metadata": {}
  },
  {
   "cell_type": "code",
   "execution_count": null,
   "source": [
    "try:\n",
    "    s3_data_prefix\n",
    "    s3_flow_prefix\n",
    "    s3_input_data_prefix\n",
    "    s3_fs_query_output_prefix\n",
    "except NameError:\n",
    "    print(\"+++++++++++++++++++++++++++++++++++++++++++++++++++++++++++++++++++++++++++++++++++++\")\n",
    "    print(\"[ERROR] YOU HAVE TO RUN 00-setup.ipynb and 01-feature-store-ingest-pipeline notebooks\")\n",
    "    print(\"+++++++++++++++++++++++++++++++++++++++++++++++++++++++++++++++++++++++++++++++++++++\")"
   ],
   "outputs": [],
   "metadata": {}
  },
  {
   "cell_type": "code",
   "execution_count": null,
   "source": [
    "sm = boto3.client(\"sagemaker\")\n",
    "s3 = boto3.resource('s3')"
   ],
   "outputs": [],
   "metadata": {}
  },
  {
   "cell_type": "markdown",
   "source": [
    "## Delete projects"
   ],
   "metadata": {}
  },
  {
   "cell_type": "code",
   "execution_count": null,
   "source": [
    "# Get all projects created by the current domain\n",
    "projects = [\n",
    "    {\"ProjectName\":p[\"ProjectName\"], \"ProjectId\":p[\"ProjectId\"]} for p in sm.list_projects(MaxResults=100, SortBy=\"CreationTime\")[\"ProjectSummaryList\"] \n",
    "        if sm.describe_project(ProjectName=p[\"ProjectName\"])[\"CreatedBy\"][\"DomainId\"] == domain_id and p[\"ProjectStatus\"] == \"CreateCompleted\"\n",
    "]\n",
    "\n",
    "print(f\"These projects have been created by domain {domain_id}: {json.dumps(projects, indent=2)}\")"
   ],
   "outputs": [],
   "metadata": {}
  },
  {
   "cell_type": "code",
   "execution_count": null,
   "source": [
    "# Select projects to be deleted\n",
    "projects_to_delete = []\n",
    "\n",
    "for p in projects:\n",
    "    print(f\"Are you sure you want to delete this project: {p['ProjectName']}? (y/n)\")\n",
    "    choice = input()\n",
    "    if choice == 'y':\n",
    "        projects_to_delete.append(p)\n",
    "        \n",
    "print(f\"***************************************\")\n",
    "print(f\"The following projects will be deleted:\\n{json.dumps(projects_to_delete, indent=2)}\")\n",
    "print(f\"***************************************\")"
   ],
   "outputs": [],
   "metadata": {}
  },
  {
   "cell_type": "markdown",
   "source": [
    "<div class=\"alert alert-info\"> 💡 <strong> The following code cell will delete all selected projects. All project CodeCommit code repositories and CI/CD CodePipeline pipelines will be deleted! </strong>\n",
    "</div>"
   ],
   "metadata": {}
  },
  {
   "cell_type": "code",
   "execution_count": null,
   "source": [
    "for p in projects_to_delete:\n",
    "    try:\n",
    "        print(f\"Deleting project {p['ProjectName']}:{sm.delete_project(ProjectName=p['ProjectName'])}\")\n",
    "    except Exception:\n",
    "        pass"
   ],
   "outputs": [],
   "metadata": {}
  },
  {
   "cell_type": "markdown",
   "source": [
    "## Delete feature groups"
   ],
   "metadata": {}
  },
  {
   "cell_type": "code",
   "execution_count": null,
   "source": [
    "feature_groups = sm.list_feature_groups(\n",
    "    FeatureGroupStatusEquals=\"Created\", \n",
    "    SortOrder=\"Descending\", \n",
    "    SortBy=\"CreationTime\"\n",
    ")[\"FeatureGroupSummaries\"]"
   ],
   "outputs": [],
   "metadata": {}
  },
  {
   "cell_type": "code",
   "execution_count": null,
   "source": [
    "feature_groups"
   ],
   "outputs": [],
   "metadata": {}
  },
  {
   "cell_type": "code",
   "execution_count": null,
   "source": [
    "# Select feature groups to be deleted\n",
    "feature_groups_to_delete = []\n",
    "\n",
    "for fg in feature_groups:\n",
    "    print(f\"Are you sure you want to delete this feature group: {fg['FeatureGroupName']}? (y/n)\")\n",
    "    choice = input()\n",
    "    if choice == 'y':\n",
    "        feature_groups_to_delete.append(fg[\"FeatureGroupName\"])\n",
    "        \n",
    "print(f\"********************************************\")\n",
    "print(f\"The following feature groups will be deleted:\\n{json.dumps(feature_groups_to_delete, indent=2)}\")\n",
    "print(f\"********************************************\")\n"
   ],
   "outputs": [],
   "metadata": {}
  },
  {
   "cell_type": "code",
   "execution_count": null,
   "source": [
    "def delete_offline_store(feature_group_name: str):\n",
    "    try:\n",
    "        offline_store_config = sm.describe_feature_group(FeatureGroupName=feature_group_name)['OfflineStoreConfig']\n",
    "\n",
    "    except Exception:\n",
    "        print(f'Feature group: {feature_group_name} does NOT have an offline store!')\n",
    "        return\n",
    "    \n",
    "    offline_store_s3_uri = offline_store_config['S3StorageConfig']['ResolvedOutputS3Uri']\n",
    "    print(f\"all feature store objects under {offline_store_s3_uri} will be deleted!\")\n",
    "    print(\"Are you sure you want to these objects ? (y/n)\")\n",
    "    \n",
    "    choice = input()\n",
    "    if choice == 'y':\n",
    "        !aws s3 rm {offline_store_s3_uri} --recursive"
   ],
   "outputs": [],
   "metadata": {}
  },
  {
   "cell_type": "markdown",
   "source": [
    "<div class=\"alert alert-info\"> 💡 <strong> The following code cell will delete the selected feature groups!</strong>\n",
    "</div>"
   ],
   "metadata": {}
  },
  {
   "cell_type": "code",
   "execution_count": null,
   "source": [
    "for fg in feature_groups_to_delete:\n",
    "    print(f\"Deleting the feature group: {fg}\")\n",
    "    delete_offline_store(fg)\n",
    "    sm.delete_feature_group(FeatureGroupName=fg)"
   ],
   "outputs": [],
   "metadata": {}
  },
  {
   "cell_type": "markdown",
   "source": [
    "## Delete project-provisioned S3 buckets"
   ],
   "metadata": {}
  },
  {
   "cell_type": "markdown",
   "source": [
    "<div class=\"alert alert-info\"> 💡 <strong> The following code cell will delete all S3 buckets created by a project!</strong>\n",
    "</div>"
   ],
   "metadata": {}
  },
  {
   "cell_type": "code",
   "execution_count": null,
   "source": [
    "print(f\"*****************************************************\")\n",
    "print(f\"The following S3 buckets will be removed permanently!\")\n",
    "print(f\"*****************************************************\")\n",
    "for p in projects_to_delete:\n",
    "    print(f\"sagemaker-cp-{p['ProjectName']}-{p['ProjectId']}\")\n",
    "    print(f\"sagemaker-ct-{p['ProjectName']}-{p['ProjectId']}\")"
   ],
   "outputs": [],
   "metadata": {}
  },
  {
   "cell_type": "code",
   "execution_count": null,
   "source": [
    "for p in projects_to_delete:\n",
    "    !aws s3 rb s3://sagemaker-cp-{p['ProjectName']}-{p['ProjectId']} --force    \n",
    "    !aws s3 rb s3://sagemaker-ct-{p['ProjectName']}-{p['ProjectId']} --force"
   ],
   "outputs": [],
   "metadata": {}
  },
  {
   "cell_type": "markdown",
   "source": [
    "## Remove project-related objects from S3 data bucket"
   ],
   "metadata": {}
  },
  {
   "cell_type": "markdown",
   "source": [
    "<div class=\"alert alert-info\"> 💡 <strong> The following code cells will delete all objects under specified S3 prefixes!</strong>\n",
    "</div>"
   ],
   "metadata": {}
  },
  {
   "cell_type": "code",
   "execution_count": null,
   "source": [
    "prefixes_to_delete = [\n",
    "    s3_data_prefix,\n",
    "    s3_flow_prefix,\n",
    "    s3_input_data_prefix,\n",
    "    s3_fs_query_output_prefix\n",
    "]"
   ],
   "outputs": [],
   "metadata": {}
  },
  {
   "cell_type": "code",
   "execution_count": null,
   "source": [
    "print(f\"************************************************************************\")\n",
    "print(f\"All objects under the following S3 prefixes will be removed permanently!\")\n",
    "print(f\"************************************************************************\")\n",
    "for p in prefixes_to_delete:\n",
    "    print(p)"
   ],
   "outputs": [],
   "metadata": {}
  },
  {
   "cell_type": "code",
   "execution_count": null,
   "source": [
    "for p in prefixes_to_delete:\n",
    "    !aws s3 rm s3://{p} --recursive"
   ],
   "outputs": [],
   "metadata": {}
  },
  {
   "cell_type": "markdown",
   "source": [
    "# Release resources"
   ],
   "metadata": {}
  },
  {
   "cell_type": "code",
   "execution_count": null,
   "source": [
    "%%html\n",
    "\n",
    "<p><b>Shutting down your kernel for this notebook to release resources.</b></p>\n",
    "<button class=\"sm-command-button\" data-commandlinker-command=\"kernelmenu:shutdown\" style=\"display:none;\">Shutdown Kernel</button>\n",
    "        \n",
    "<script>\n",
    "try {\n",
    "    els = document.getElementsByClassName(\"sm-command-button\");\n",
    "    els[0].click();\n",
    "}\n",
    "catch(err) {\n",
    "    // NoOp\n",
    "}    \n",
    "</script>"
   ],
   "outputs": [],
   "metadata": {}
  },
  {
   "cell_type": "markdown",
   "source": [
    "Continue with clean up as documented in [README](../README.md#clean-up)."
   ],
   "metadata": {}
  },
  {
   "cell_type": "code",
   "execution_count": null,
   "source": [],
   "outputs": [],
   "metadata": {}
  }
 ],
 "metadata": {
  "kernelspec": {
   "display_name": "Python 3 (Data Science)",
   "language": "python",
   "name": "python3__SAGEMAKER_INTERNAL__arn:aws:sagemaker:us-east-1:081325390199:image/datascience-1.0"
  },
  "language_info": {
   "codemirror_mode": {
    "name": "ipython",
    "version": 3
   },
   "file_extension": ".py",
   "mimetype": "text/x-python",
   "name": "python",
   "nbconvert_exporter": "python",
   "pygments_lexer": "ipython3",
   "version": "3.7.10"
  }
 },
 "nbformat": 4,
 "nbformat_minor": 4
}